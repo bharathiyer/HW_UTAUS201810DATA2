{
 "cells": [
  {
   "cell_type": "code",
   "execution_count": 1,
   "metadata": {},
   "outputs": [],
   "source": [
    "# Import BeautifulSoup\n",
    "from bs4 import BeautifulSoup as bs\n",
    "import pandas as pd\n",
    "import time\n",
    "\n",
    "# Import Splinter and set the chromedriver path\n",
    "from splinter import Browser"
   ]
  },
  {
   "cell_type": "markdown",
   "metadata": {},
   "source": [
    "### Define useful functions\n",
    "* visit_scrape_soup - Visit the url and scrape into soup\n",
    "* scrape_hemisphere - Visit the USGS Astrogeology site to obtain high resolution images for the requested Mars hemisphere."
   ]
  },
  {
   "cell_type": "code",
   "execution_count": 2,
   "metadata": {},
   "outputs": [],
   "source": [
    "sleeptime = 0.3\n",
    "def visit_scrape_soup(b, url):\n",
    "    '''\n",
    "    Visit the url and scrape into soup\n",
    "    '''\n",
    "    b.visit(url)\n",
    "    time.sleep(sleeptime)\n",
    "    # Scrape the browser into soup\n",
    "    html = b.html\n",
    "    return bs(html, 'lxml')\n",
    "# def visit_scrape_soup(b, url)\n",
    "\n",
    "def scrape_hemisphere(b, num):\n",
    "    '''\n",
    "    Mars Hemispheres:\n",
    "    Visit the USGS Astrogeology site to obtain high resolution images for the requested Mars hemisphere.\n",
    "    '''\n",
    "    # Design an XPATH selector to grab the hemisphere images\n",
    "    xpath = '//div[@class=\"collapsible results\"]/div[@class=\"item\"]/a/img'\n",
    "\n",
    "    # Find links to hemisphere image thumbnails and click on the requested one\n",
    "    hresults = b.find_by_xpath(xpath)\n",
    "    hresults[num].click()\n",
    "    time.sleep(sleeptime)\n",
    "\n",
    "    # Scrape the browser into soup\n",
    "    html = b.html\n",
    "    soup = bs(html, 'lxml')\n",
    "\n",
    "    # Save title and url in dict\n",
    "    imgdict = dict()\n",
    "    imgdict[\"title\"] = soup.find(\"h2\", class_=\"title\").text.strip(\"Enhanced\").strip()\n",
    "    imgdict[\"url\"] = soup.find(\"div\", class_=\"downloads\").ul.li.a[\"href\"]\n",
    "\n",
    "    # Go back to previous page\n",
    "    b.back()\n",
    "    return imgdict\n",
    "# def scrape_hemisphere(b, num)"
   ]
  },
  {
   "cell_type": "markdown",
   "metadata": {},
   "source": [
    "# Mission to Mars"
   ]
  },
  {
   "cell_type": "code",
   "execution_count": 3,
   "metadata": {},
   "outputs": [],
   "source": [
    "# Start the browser\n",
    "executable_path = {\"executable_path\": \"./chromedriver\"}\n",
    "browser = Browser(\"chrome\", **executable_path, headless=False)"
   ]
  },
  {
   "cell_type": "markdown",
   "metadata": {},
   "source": [
    "### NASA Mars News\n",
    "* Scrape the [NASA Mars News Site](https://mars.nasa.gov/news/) and collect the latest News Title and Paragraph Text."
   ]
  },
  {
   "cell_type": "code",
   "execution_count": 4,
   "metadata": {},
   "outputs": [
    {
     "name": "stdout",
     "output_type": "stream",
     "text": [
      "Beyond Mars, the Mini MarCO Spacecraft Fall Silent : \n",
      "The first CubeSat mission to deep space may have reached their limit, but they could inspire future NASA missions.\n"
     ]
    }
   ],
   "source": [
    "# Visit the URL and scrape\n",
    "mnewsurl = \"https://mars.nasa.gov/news/\"\n",
    "nsoup = visit_scrape_soup(browser, mnewsurl)\n",
    "\n",
    "# Find the first news title and paragraph\n",
    "news = nsoup.find(\"li\", class_=\"slide\")\n",
    "news_title = news.find('div', class_='content_title').text\n",
    "news_p = news.find('div', class_='rollover_description_inner').text\n",
    "\n",
    "print(f'{news_title} : \\n{news_p}')"
   ]
  },
  {
   "cell_type": "markdown",
   "metadata": {},
   "source": [
    "### JPL Mars Space Images - Featured Image\n",
    "* Visit the url for JPL Featured Space Image [here](https://www.jpl.nasa.gov/spaceimages/?search=&category=Mars) and find the image url for the current Featured Mars Image."
   ]
  },
  {
   "cell_type": "code",
   "execution_count": 5,
   "metadata": {},
   "outputs": [
    {
     "name": "stdout",
     "output_type": "stream",
     "text": [
      "https://www.jpl.nasa.gov/spaceimages/images/wallpaper/PIA08003-1920x1200.jpg\n"
     ]
    }
   ],
   "source": [
    "jplurl = \"https://www.jpl.nasa.gov\"\n",
    "# Visit the URL and scrape\n",
    "img_search_url = f\"{jplurl}/spaceimages/?search=&category=Mars\"\n",
    "imgsoup = visit_scrape_soup(browser, img_search_url)\n",
    "\n",
    "# Find path to wallpaper size image of the current Featured Mars Image\n",
    "imgitem = imgsoup.find(\"article\", class_=\"carousel_item\")\n",
    "imgpath = imgitem['style'].split(\"'\")[1]\n",
    "imgurl = f\"{jplurl}{imgpath}\"\n",
    "\n",
    "print(imgurl)"
   ]
  },
  {
   "cell_type": "markdown",
   "metadata": {},
   "source": [
    "### Mars Weather\n",
    "* Visit the Mars Weather twitter account [here](https://twitter.com/marswxreport?lang=en) and scrape the latest Mars weather tweet from the page."
   ]
  },
  {
   "cell_type": "code",
   "execution_count": 6,
   "metadata": {},
   "outputs": [
    {
     "name": "stdout",
     "output_type": "stream",
     "text": [
      "Sol 2308 (2019-02-02), high -13C/8F, low -71C/-95F, pressure at 8.14 hPa, daylight 06:47-18:54\n"
     ]
    }
   ],
   "source": [
    "# Visit the URL\n",
    "wurl = \"https://twitter.com/marswxreport?lang=en\"\n",
    "wsoup = visit_scrape_soup(browser, wurl)\n",
    "\n",
    "# Get list of tweets\n",
    "tlist = wsoup.find_all(\"li\", class_=\"js-stream-item\")\n",
    "wtext = None\n",
    "wkeywords = {'Sol', 'pressure', 'daylight'}\n",
    "\n",
    "# Loop through and find the most recent weather tweet\n",
    "for t in tlist:\n",
    "    if t.div[\"data-screen-name\"] == \"MarsWxReport\":\n",
    "        mwtext = t.find(class_=\"tweet-text\").a.previousSibling\n",
    "        if wkeywords.issubset(set(mwtext.split())):\n",
    "            wtext = mwtext\n",
    "            break\n",
    "\n",
    "print(wtext)"
   ]
  },
  {
   "cell_type": "markdown",
   "metadata": {},
   "source": [
    "### Mars Facts\n",
    "* Visit the Mars Facts webpage [here](http://space-facts.com/mars/) and use Pandas to scrape the table containing facts about the planet including Diameter, Mass, etc."
   ]
  },
  {
   "cell_type": "code",
   "execution_count": 7,
   "metadata": {},
   "outputs": [
    {
     "name": "stdout",
     "output_type": "stream",
     "text": [
      "<table border=\"1\" class=\"dataframe table table-striped table-hover table-dark table-bordered table-sm\">  <thead>    <tr style=\"text-align: center;\">      <th>Parameter</th>      <th>Value</th>    </tr>  </thead>  <tbody>    <tr>      <td>Equatorial Diameter:</td>      <td>6,792 km</td>    </tr>    <tr>      <td>Polar Diameter:</td>      <td>6,752 km</td>    </tr>    <tr>      <td>Mass:</td>      <td>6.42 x 10^23 kg (10.7% Earth)</td>    </tr>    <tr>      <td>Moons:</td>      <td>2 (Phobos &amp; Deimos)</td>    </tr>    <tr>      <td>Orbit Distance:</td>      <td>227,943,824 km (1.52 AU)</td>    </tr>    <tr>      <td>Orbit Period:</td>      <td>687 days (1.9 years)</td>    </tr>    <tr>      <td>Surface Temperature:</td>      <td>-153 to 20 °C</td>    </tr>    <tr>      <td>First Record:</td>      <td>2nd millennium BC</td>    </tr>    <tr>      <td>Recorded By:</td>      <td>Egyptian astronomers</td>    </tr>  </tbody></table>\n"
     ]
    }
   ],
   "source": [
    "# Use Panda's `read_html` to parse the url\n",
    "furl = \"http://space-facts.com/mars/\"\n",
    "ftables = pd.read_html(furl)\n",
    "\n",
    "# Get the table dataframe and update column names\n",
    "fdf = ftables[0]\n",
    "fdf.columns = ['Parameter', 'Value']\n",
    "\n",
    "# Use to_html to generate HTML tables from dataframe.\n",
    "fhtml = fdf.to_html(index=False,\n",
    "                    justify=\"center\",\n",
    "                    classes=\"table table-striped table-hover table-dark table-bordered table-sm\")\n",
    "\n",
    "# Strip unwanted newlines to clean up the table.\n",
    "fhtml = fhtml.replace('\\n', '')\n",
    "\n",
    "print(fhtml)"
   ]
  },
  {
   "cell_type": "markdown",
   "metadata": {},
   "source": [
    "### Mars Hemispheres\n",
    "* Visit the USGS Astrogeology site [here](https://astrogeology.usgs.gov/search/results?q=hemisphere+enhanced&k1=target&v1=Mars) to obtain high resolution images for each of Mar's hemispheres."
   ]
  },
  {
   "cell_type": "code",
   "execution_count": 8,
   "metadata": {},
   "outputs": [
    {
     "name": "stdout",
     "output_type": "stream",
     "text": [
      "[{'title': 'Cerberus Hemisphere', 'url': 'http://astropedia.astrogeology.usgs.gov/download/Mars/Viking/cerberus_enhanced.tif/full.jpg'}, {'title': 'Schiaparelli Hemisphere', 'url': 'http://astropedia.astrogeology.usgs.gov/download/Mars/Viking/schiaparelli_enhanced.tif/full.jpg'}, {'title': 'Syrtis Major Hemisphere', 'url': 'http://astropedia.astrogeology.usgs.gov/download/Mars/Viking/syrtis_major_enhanced.tif/full.jpg'}, {'title': 'Valles Marineris Hemisphere', 'url': 'http://astropedia.astrogeology.usgs.gov/download/Mars/Viking/valles_marineris_enhanced.tif/full.jpg'}]\n"
     ]
    }
   ],
   "source": [
    "hurl = \"https://astrogeology.usgs.gov/search/results?q=hemisphere+enhanced&k1=target&v1=Mars\"\n",
    "# Visit the URL\n",
    "browser.visit(hurl)\n",
    "time.sleep(sleeptime)\n",
    "\n",
    "# list of dicts to save results\n",
    "himglist = list()\n",
    "hnum = 0\n",
    "while hnum < 4:\n",
    "    himglist.append(scrape_hemisphere(browser, hnum))\n",
    "    hnum += 1\n",
    "\n",
    "print(himglist)"
   ]
  },
  {
   "cell_type": "code",
   "execution_count": 9,
   "metadata": {},
   "outputs": [],
   "source": [
    "# Close the browser after scraping\n",
    "browser.quit()"
   ]
  },
  {
   "cell_type": "code",
   "execution_count": null,
   "metadata": {},
   "outputs": [],
   "source": []
  }
 ],
 "metadata": {
  "kernelspec": {
   "display_name": "Python 3",
   "language": "python",
   "name": "python3"
  },
  "language_info": {
   "codemirror_mode": {
    "name": "ipython",
    "version": 3
   },
   "file_extension": ".py",
   "mimetype": "text/x-python",
   "name": "python",
   "nbconvert_exporter": "python",
   "pygments_lexer": "ipython3",
   "version": "3.6.8"
  },
  "varInspector": {
   "cols": {
    "lenName": 16,
    "lenType": 16,
    "lenVar": 40
   },
   "kernels_config": {
    "python": {
     "delete_cmd_postfix": "",
     "delete_cmd_prefix": "del ",
     "library": "var_list.py",
     "varRefreshCmd": "print(var_dic_list())"
    },
    "r": {
     "delete_cmd_postfix": ") ",
     "delete_cmd_prefix": "rm(",
     "library": "var_list.r",
     "varRefreshCmd": "cat(var_dic_list()) "
    }
   },
   "types_to_exclude": [
    "module",
    "function",
    "builtin_function_or_method",
    "instance",
    "_Feature"
   ],
   "window_display": false
  }
 },
 "nbformat": 4,
 "nbformat_minor": 2
}
